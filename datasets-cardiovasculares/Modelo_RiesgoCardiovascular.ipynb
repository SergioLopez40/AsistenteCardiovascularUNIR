{
 "cells": [
  {
   "cell_type": "code",
   "execution_count": 12,
   "id": "1e4d2e57-7672-4388-8b0f-cb1adec87643",
   "metadata": {
    "tags": []
   },
   "outputs": [
    {
     "name": "stdout",
     "output_type": "stream",
     "text": [
      "Requirement already satisfied: xgboost in /opt/conda/lib/python3.10/site-packages (2.1.4)\n",
      "Requirement already satisfied: numpy in /opt/conda/lib/python3.10/site-packages (from xgboost) (1.26.4)\n",
      "Requirement already satisfied: nvidia-nccl-cu12 in /opt/conda/lib/python3.10/site-packages (from xgboost) (2.25.1)\n",
      "Requirement already satisfied: scipy in /opt/conda/lib/python3.10/site-packages (from xgboost) (1.15.1)\n",
      "\n",
      "\u001b[1m[\u001b[0m\u001b[34;49mnotice\u001b[0m\u001b[1;39;49m]\u001b[0m\u001b[39;49m A new release of pip is available: \u001b[0m\u001b[31;49m25.0\u001b[0m\u001b[39;49m -> \u001b[0m\u001b[32;49m25.0.1\u001b[0m\n",
      "\u001b[1m[\u001b[0m\u001b[34;49mnotice\u001b[0m\u001b[1;39;49m]\u001b[0m\u001b[39;49m To update, run: \u001b[0m\u001b[32;49mpip install --upgrade pip\u001b[0m\n",
      "Note: you may need to restart the kernel to use updated packages.\n"
     ]
    }
   ],
   "source": [
    "pip install xgboost"
   ]
  },
  {
   "cell_type": "code",
   "execution_count": 13,
   "id": "bc6e1fad-f5ca-423c-b54d-7d060f624fa8",
   "metadata": {
    "tags": []
   },
   "outputs": [
    {
     "name": "stdout",
     "output_type": "stream",
     "text": [
      "Modelo guardado en Cloud Storage exitosamente.\n"
     ]
    }
   ],
   "source": [
    "import numpy as np\n",
    "import pandas as pd\n",
    "import joblib\n",
    "from google.cloud import storage\n",
    "from sklearn.preprocessing import OneHotEncoder, OrdinalEncoder, StandardScaler\n",
    "from sklearn.model_selection import train_test_split\n",
    "from xgboost import XGBClassifier\n",
    "\n",
    "# Configurar nombre del bucket y archivo\n",
    "BUCKET_NAME = \"datasets-cardiovasculares\"\n",
    "FILE_PATH = \"dataset_cardiovascular.csv\"\n",
    "MODEL_PATH = \"models/xgboost_model.pkl\"\n",
    "SCALER_PATH = \"models/scaler1.pkl\"\n",
    "\n",
    "# Descargar archivo desde Cloud Storage\n",
    "client = storage.Client()\n",
    "bucket = client.bucket(BUCKET_NAME)\n",
    "blob = bucket.blob(FILE_PATH)\n",
    "blob.download_to_filename(\"dataset.csv\")\n",
    "\n",
    "# Cargar dataset\n",
    "df = pd.read_csv(\"dataset.csv\", delimiter=\",\")  # Asegurar que el delimitador sea correcto\n",
    "\n",
    "# Aplicar OneHotEncoder a 'gender'\n",
    "one_hot_encoder = OneHotEncoder(sparse_output=False, drop=\"first\")\n",
    "gender_encoded = one_hot_encoder.fit_transform(df[['gender']])\n",
    "\n",
    "# Aplicar OrdinalEncoder a 'cholesterol' y 'gluc'\n",
    "ordinal_encoder = OrdinalEncoder(categories=[[1, 2, 3]])\n",
    "cholesterol_encoded = ordinal_encoder.fit_transform(df[['cholesterol']])\n",
    "gluc_encoded = ordinal_encoder.fit_transform(df[['gluc']])\n",
    "\n",
    "# Aplicar StandardScaler a variables numéricas\n",
    "scaler = StandardScaler()\n",
    "numeric_features = ['age', 'ap_hi', 'ap_lo', 'imc']\n",
    "df_scaled = scaler.fit_transform(df[numeric_features])\n",
    "\n",
    "# Unimos las transformaciones y el resto de variables\n",
    "df_final = np.hstack([\n",
    "    df_scaled,\n",
    "    gender_encoded,\n",
    "    cholesterol_encoded,\n",
    "    gluc_encoded,\n",
    "    df[['smoke', 'alco', 'active', 'cardio']].values\n",
    "])\n",
    "\n",
    "# Convertimos a DataFrame\n",
    "column_names = numeric_features + [\"gender_encoded\"] + [\"cholesterol_encoded\"] + [\"gluc_encoded\"] + ['smoke', 'alco', 'active', 'cardio']\n",
    "df_transformed = pd.DataFrame(df_final, columns=column_names)\n",
    "\n",
    "# Separar datos en entrenamiento y prueba\n",
    "X = df_transformed.drop(columns=[\"cardio\"])\n",
    "y = df_transformed[\"cardio\"]\n",
    "X_train, X_test, y_train, y_test = train_test_split(X, y, test_size=0.2, random_state=58)\n",
    "\n",
    "# Entrenar modelo XGBoost con los hiperparámetros encontrados\n",
    "xgb = XGBClassifier(n_estimators=200, max_depth=5, gamma=0.2, learning_rate=0.1, \n",
    "                    colsample_bytree=1, eval_metric='logloss', random_state=58)\n",
    "xgb.fit(X_train, y_train)\n",
    "\n",
    "# Guardar modelo y scaler localmente\n",
    "joblib.dump(xgb, \"xgboost_model.pkl\")\n",
    "joblib.dump(scaler, \"scaler1.pkl\")\n",
    "\n",
    "# Subir modelo y scaler a Cloud Storage\n",
    "blob = bucket.blob(MODEL_PATH)\n",
    "blob.upload_from_filename(\"xgboost_model.pkl\")\n",
    "\n",
    "blob = bucket.blob(SCALER_PATH)\n",
    "blob.upload_from_filename(\"scaler1.pkl\")\n",
    "\n",
    "print(\"Modelo guardado en Cloud Storage exitosamente.\")\n"
   ]
  },
  {
   "cell_type": "code",
   "execution_count": 10,
   "id": "b23727ce-5cba-42e3-9a19-c8cb07061972",
   "metadata": {},
   "outputs": [
    {
     "name": "stdout",
     "output_type": "stream",
     "text": [
      "Columnas usadas para entrenar: ['age', 'ap_hi', 'ap_lo', 'imc', 'gender_encoded', 'cholesterol_encoded', 'gluc_encoded', 'smoke', 'alco', 'active']\n"
     ]
    }
   ],
   "source": [
    "print(\"Columnas usadas para entrenar:\", X_train.columns.tolist())\n"
   ]
  },
  {
   "cell_type": "code",
   "execution_count": null,
   "id": "a110f1bf-9537-438f-8f12-afbc53cd01db",
   "metadata": {},
   "outputs": [],
   "source": []
  }
 ],
 "metadata": {
  "environment": {
   "kernel": "conda-base-py",
   "name": "workbench-notebooks.m128",
   "type": "gcloud",
   "uri": "us-docker.pkg.dev/deeplearning-platform-release/gcr.io/workbench-notebooks:m128"
  },
  "kernelspec": {
   "display_name": "Python 3 (ipykernel)",
   "language": "python",
   "name": "conda-base-py"
  },
  "language_info": {
   "codemirror_mode": {
    "name": "ipython",
    "version": 3
   },
   "file_extension": ".py",
   "mimetype": "text/x-python",
   "name": "python",
   "nbconvert_exporter": "python",
   "pygments_lexer": "ipython3",
   "version": "3.10.16"
  }
 },
 "nbformat": 4,
 "nbformat_minor": 5
}
