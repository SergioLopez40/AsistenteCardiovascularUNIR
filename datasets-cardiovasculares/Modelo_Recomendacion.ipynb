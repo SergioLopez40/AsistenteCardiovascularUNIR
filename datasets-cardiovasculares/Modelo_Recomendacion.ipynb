{
 "cells": [
  {
   "cell_type": "code",
   "execution_count": 2,
   "id": "5023e739-9b49-418d-a7be-f3228ae575ff",
   "metadata": {
    "tags": []
   },
   "outputs": [
    {
     "name": "stdout",
     "output_type": "stream",
     "text": [
      "Modelo guardado en Cloud Storage exitosamente.\n"
     ]
    }
   ],
   "source": [
    "import pandas as pd\n",
    "import numpy as np\n",
    "import joblib\n",
    "from google.cloud import storage\n",
    "from sklearn.cluster import KMeans\n",
    "from sklearn.preprocessing import StandardScaler, LabelEncoder\n",
    "\n",
    "# Configurar nombre del bucket y archivo en Cloud Storage\n",
    "BUCKET_NAME = \"datasets-cardiovasculares\"\n",
    "FILE_PATH = \"dataset_unificado.csv\"\n",
    "MODEL_PATH = \"models\" \n",
    "\n",
    "# Descargar el archivo desde Cloud Storage\n",
    "client = storage.Client()\n",
    "bucket = client.bucket(BUCKET_NAME)\n",
    "blob = bucket.blob(FILE_PATH)\n",
    "blob.download_to_filename(\"dataset.csv\")\n",
    "\n",
    "# Cargar el dataset\n",
    "df = pd.read_csv(\"dataset.csv\", delimiter=\",\")\n",
    "\n",
    "# Aplicar One-Hot Encoding a 'Type'\n",
    "df = pd.get_dummies(df, columns=[\"Type\"], prefix=\"Type\")\n",
    "\n",
    "# Codificar variables categóricas\n",
    "level_mapping = {\"Beginner\": 0, \"Intermediate\": 1, \"Expert\": 2}\n",
    "df[\"Level\"] = df[\"Level\"].map(level_mapping)\n",
    "\n",
    "equipamiento_categorias = {\n",
    "    \"Body Only\": 0, \"nan\": 0, \"Dumbbell\": 1, \"Bands\": 1, \"Medicine Ball\": 1,\n",
    "    \"Barbell\": 2, \"Kettlebells\": 2, \"Machine\": 3, \"Cable\": 3, \"Other\": 3\n",
    "}\n",
    "df[\"Equipment_Encoded\"] = df[\"Equipment\"].map(equipamiento_categorias).fillna(0).astype(int)\n",
    "\n",
    "bodypart_categorias = {\n",
    "    \"Abdominals\": \"Core\", \"Lower Back\": \"Core\",\n",
    "    \"Quadriceps\": \"Piernas\", \"Hamstrings\": \"Piernas\", \"Calves\": \"Piernas\",\n",
    "    \"Chest\": \"Tren Superior\", \"Shoulders\": \"Tren Superior\", \"Lats\": \"Tren Superior\",\n",
    "    \"Biceps\": \"Brazos\", \"Triceps\": \"Brazos\"\n",
    "}\n",
    "df[\"BodyPart_Category\"] = df[\"BodyPart\"].map(bodypart_categorias)\n",
    "\n",
    "# Aplicar Label Encoding a `BodyPart_Category`\n",
    "le_bodypart_cat = LabelEncoder()\n",
    "df[\"BodyPart_Category_Encoded\"] = le_bodypart_cat.fit_transform(df[\"BodyPart_Category\"])\n",
    "\n",
    "# Selección de columnas para entrenamiento\n",
    "feature_cols = [\n",
    "    \"Cardiovascular_Safe\", \"BodyPart_Category_Encoded\", \"Equipment_Encoded\", \"Level\",\n",
    "    \"Type_Cardio\", \"Type_Plyometrics\", \"Type_Strength\", \"Type_Stretching\"\n",
    "]\n",
    "\n",
    "# Escalar datos\n",
    "scaler = StandardScaler()\n",
    "df_scaled = scaler.fit_transform(df[feature_cols])\n",
    "\n",
    "# Entrenar modelo K-Means\n",
    "kmeans = KMeans(n_clusters=7, random_state=58)\n",
    "kmeans.fit(df_scaled)\n",
    "\n",
    "# Asignar los clusters al dataset\n",
    "df[\"Cluster\"] = kmeans.predict(df_scaled)\n",
    "\n",
    "# Guardar dataset con los clusters asignados\n",
    "df.to_csv(\"dataset_clustering.csv\", index=False)\n",
    "\n",
    "# Subir dataset actualizado a Cloud Storage\n",
    "blob = bucket.blob(\"dataset_clustering.csv\")\n",
    "blob.upload_from_filename(\"dataset_clustering.csv\")\n",
    "\n",
    "# Guardar modelo y scaler localmente\n",
    "joblib.dump(kmeans, \"kmeans_model.pkl\")\n",
    "joblib.dump(scaler, \"scaler.pkl\")\n",
    "\n",
    "# Subir modelo a Cloud Storage\n",
    "blob = bucket.blob(f\"{MODEL_PATH}/kmeans_model.pkl\")\n",
    "blob.upload_from_filename(\"kmeans_model.pkl\")\n",
    "\n",
    "blob = bucket.blob(f\"{MODEL_PATH}/scaler.pkl\")\n",
    "blob.upload_from_filename(\"scaler.pkl\")\n",
    "\n",
    "print(\"Modelo guardado en Cloud Storage exitosamente.\")\n"
   ]
  },
  {
   "cell_type": "code",
   "execution_count": null,
   "id": "86bbb578-6dc5-469f-9948-d7d6229416bc",
   "metadata": {},
   "outputs": [],
   "source": []
  }
 ],
 "metadata": {
  "environment": {
   "kernel": "conda-base-py",
   "name": "workbench-notebooks.m128",
   "type": "gcloud",
   "uri": "us-docker.pkg.dev/deeplearning-platform-release/gcr.io/workbench-notebooks:m128"
  },
  "kernelspec": {
   "display_name": "Python 3 (ipykernel)",
   "language": "python",
   "name": "conda-base-py"
  },
  "language_info": {
   "codemirror_mode": {
    "name": "ipython",
    "version": 3
   },
   "file_extension": ".py",
   "mimetype": "text/x-python",
   "name": "python",
   "nbconvert_exporter": "python",
   "pygments_lexer": "ipython3",
   "version": "3.10.16"
  }
 },
 "nbformat": 4,
 "nbformat_minor": 5
}
